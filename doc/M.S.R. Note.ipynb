{
 "cells": [
  {
   "cell_type": "markdown",
   "id": "964e41cb",
   "metadata": {},
   "source": [
    "Aspetti e considerazioni implementative sul progetto"
   ]
  },
  {
   "cell_type": "markdown",
   "id": "18743eb5",
   "metadata": {},
   "source": [
    "# Log file"
   ]
  },
  {
   "cell_type": "markdown",
   "id": "24d6f4f6",
   "metadata": {},
   "source": [
    "Per la gestione dei file log si può utilizzare logging direttamente da Python"
   ]
  },
  {
   "cell_type": "code",
   "execution_count": 1,
   "id": "b2a6139e",
   "metadata": {},
   "outputs": [],
   "source": [
    "import logging"
   ]
  },
  {
   "cell_type": "markdown",
   "id": "6f9a9542",
   "metadata": {},
   "source": [
    "### Es. 1"
   ]
  },
  {
   "cell_type": "markdown",
   "id": "249b01a3",
   "metadata": {},
   "source": [
    "Un primo modo per gestire i log è il seguente.\n",
    "\n",
    "Setto i parametri per gestire il file di log. Questi dovrebbero se unico in tutti i moduli di cui è composto il progetto, rimanere gli stessi per tutti.\n",
    "\n",
    "Quindi in un altra classe se importata una chiamata alla logging.info('test') funzionerà e manterrà la configurazione di cui sopra anche in questo secondo modulo/classe/file."
   ]
  },
  {
   "cell_type": "code",
   "execution_count": 2,
   "id": "382a3f23",
   "metadata": {},
   "outputs": [],
   "source": [
    "def set_log():\n",
    "    \"\"\" Set log system \"\"\"\n",
    "    logging.basicConfig(\n",
    "        #filename='./log/mylog.log', \n",
    "        level=logging.DEBUG,\n",
    "        format='%(asctime)s:%(levelname)s:%(message)s')"
   ]
  },
  {
   "cell_type": "markdown",
   "id": "fefa12a9",
   "metadata": {},
   "source": [
    "Con la chiamata basicConfig setto la configurazione dei log che mi interessa avere:\n",
    "\n",
    "* filename= (se presente) dichiaro dove salvare i log generati, in questa maniera salva in coda i log generati e non sovrascrive il file\n",
    "\n",
    "* filemode='w' se si vuole sovrascrivere i log a ogni esecuzione di programma\n",
    "\n",
    "* level= imposta a che livello di visione avere i log: DEBUG - INFO - WARNIND - ecc.. settare un livello inferiore ne implica tutti i suoi superiori, INFO es. non comprende DEBUG (logging.debug() non verranno presi in considerazione) Per default è settato a WARNING quindi non rileva i INFO e DEBUG\n",
    "\n",
    "* datefmt='%m/%d/%Y %I:%M:%S %p' per cambiare il formato time\n",
    "\n",
    "* format= (se presente) setta il formato dei log che si desidera avere\n",
    "    * %(asctime)s riporta il timer del log\n",
    "    * %(levelname)s riporta il livello del log\n",
    "    * %(message)s riporta il messaggio del log"
   ]
  },
  {
   "cell_type": "code",
   "execution_count": 3,
   "id": "1eab2496",
   "metadata": {},
   "outputs": [
    {
     "name": "stderr",
     "output_type": "stream",
     "text": [
      "2021-06-28 17:59:55,489:INFO:Started\n",
      "2021-06-28 17:59:55,490:INFO:Finished\n"
     ]
    }
   ],
   "source": [
    "set_log()\n",
    "logging.info('Started')\n",
    "# do something\n",
    "logging.info('Finished')"
   ]
  },
  {
   "cell_type": "markdown",
   "id": "c208891a",
   "metadata": {},
   "source": [
    "## Es. 2"
   ]
  },
  {
   "cell_type": "markdown",
   "id": "7bd05b5c",
   "metadata": {},
   "source": [
    "Se si vuole invece settare dei log univoci per classe o modello, non è possibile usare quello di prima, in quanto l'esempio di prima è univoco in tutto, se poi specificassimo in una classe un config diverso, poi in base agli import ci sarebbero degli scaling di configurazione che potrebbero interfererire e risultare log di un modulo nel formato che non volevamo.\n",
    "\n",
    "Una cosa utile per avere log diversi per modulo e riportare una cosa simile in tutti i moduli di interesse"
   ]
  },
  {
   "cell_type": "code",
   "execution_count": 4,
   "id": "1d9f1eb1",
   "metadata": {},
   "outputs": [],
   "source": [
    "import logging\n",
    "\n",
    "logger = logging.getLogger(__name__) #modulo di riferimento corrente\n",
    "\n",
    "def log():\n",
    "    \"\"\"Setto i parametri per gestire il file di log\"\"\"\n",
    "    logger.setLevel(logging.WARNING)\n",
    "    formatter = logging.Formatter('%(levelname)s:%(name)s:%(message)s')\n",
    "    # FileHandler: outputfile\n",
    "    file_handler = logging.FileHandler('./test.log') #dove salvare i log\n",
    "    file_handler.setFormatter(formatter)\n",
    "    logger.addHandler(file_handler)"
   ]
  },
  {
   "cell_type": "markdown",
   "id": "4a96137e",
   "metadata": {},
   "source": [
    "In questa maniera ora dovrò utilizzare non più logging, ma logger come riferimento che è specifico per questa configurazione"
   ]
  },
  {
   "cell_type": "code",
   "execution_count": 5,
   "id": "4d5de969",
   "metadata": {},
   "outputs": [
    {
     "name": "stderr",
     "output_type": "stream",
     "text": [
      "2021-06-28 17:59:55,508:WARNING:allerta\n"
     ]
    }
   ],
   "source": [
    "log()\n",
    "logger.info(\"ciao\") # non verrà considerato perché il level è warning\n",
    "logger.warning(\"allerta\") # verrà salvato su file nella config di nostra scelta\n",
    "# ma viene stampatoa video (se invocato solo questo corrattamente) in cascata con il config \n",
    "# della funzione della cella sopra"
   ]
  },
  {
   "cell_type": "markdown",
   "id": "03297c6f",
   "metadata": {},
   "source": [
    "Se vogliamo anche mostrarlo correttamente a video nel formato di nostro interesse"
   ]
  },
  {
   "cell_type": "code",
   "execution_count": 6,
   "id": "42f72f18",
   "metadata": {},
   "outputs": [],
   "source": [
    "def log():\n",
    "    \"\"\"Setto i parametri per gestire il file di log\"\"\"\n",
    "    logger.setLevel(logging.WARNING)\n",
    "    formatter = logging.Formatter('%(levelname)s:%(name)s:%(message)s')\n",
    "\n",
    "    # StreamHandler: console\n",
    "    stream_handler = logging.StreamHandler()\n",
    "    stream_handler.setFormatter(formatter)\n",
    "    logger.addHandler(stream_handler)\n",
    "\n",
    "    # FileHandler: outputfile\n",
    "    file_handler = logging.FileHandler('./test.log')\n",
    "    file_handler.setFormatter(formatter)\n",
    "    logger.addHandler(file_handler)"
   ]
  },
  {
   "cell_type": "code",
   "execution_count": 7,
   "id": "75848d5d",
   "metadata": {},
   "outputs": [
    {
     "name": "stderr",
     "output_type": "stream",
     "text": [
      "WARNING:__main__:allerta\n",
      "2021-06-28 17:59:55,526:WARNING:allerta\n"
     ]
    }
   ],
   "source": [
    "log()\n",
    "logger.info(\"ciao\") # non verrà considerato perché il level è warning\n",
    "logger.warning(\"allerta\") # adesso viene stampato su console pure oltre che salvato"
   ]
  },
  {
   "cell_type": "markdown",
   "id": "77c06af2",
   "metadata": {},
   "source": [
    "# Verbose command"
   ]
  },
  {
   "cell_type": "markdown",
   "id": "2c47309f",
   "metadata": {},
   "source": [
    "Vogliamo mettere la possibilità di inserire dei comandi all'invocazione del progetto: in particolare il verbose"
   ]
  },
  {
   "cell_type": "code",
   "execution_count": 8,
   "id": "0b9b44c1",
   "metadata": {},
   "outputs": [],
   "source": [
    "import argparse\n",
    "\n",
    "def arg_parse():\n",
    "    \"\"\"Verifico la possibile chiamata verbose\"\"\"\n",
    "    parser = argparse.ArgumentParser(description=\"Script che implementa metriche per il M.S.R. : tipo1 ,tipo2...\")\n",
    "    parser.add_argument(\"-v\", \"--verbose\", help=\"Restituisce output verboso\", action=\"store_true\")\n",
    "    args = parser.parse_args()\n",
    "    return args.verbose"
   ]
  },
  {
   "cell_type": "markdown",
   "id": "17fa75c0",
   "metadata": {},
   "source": [
    "Questo è il verbose che è una scelta opzionale.\n",
    "\n",
    "E' possibile scegliere e inserire anche delle opzioni obligatorie invece settando altri aspetti"
   ]
  },
  {
   "cell_type": "code",
   "execution_count": 9,
   "id": "5bac8eb6",
   "metadata": {},
   "outputs": [],
   "source": [
    "def log(verbos):\n",
    "    \"\"\"Setto i parametri per gestire il file di log\"\"\"\n",
    "    logger.setLevel(logging.INFO)\n",
    "    formatter = logging.Formatter('%(levelname)s:%(name)s:%(message)s')\n",
    "    if verbos:\n",
    "        # StreamHandler: console\n",
    "        stream_handler = logging.StreamHandler()\n",
    "        stream_handler.setFormatter(formatter)\n",
    "        logger.addHandler(stream_handler)\n",
    "\n",
    "    # FileHandler: outputfile\n",
    "    file_handler = logging.FileHandler('./test.log')\n",
    "    file_handler.setFormatter(formatter)\n",
    "    logger.addHandler(file_handler)"
   ]
  },
  {
   "cell_type": "code",
   "execution_count": 10,
   "id": "c8de2da3",
   "metadata": {},
   "outputs": [
    {
     "name": "stderr",
     "output_type": "stream",
     "text": [
      "usage: ipykernel_launcher.py [-h] [-v]\n",
      "ipykernel_launcher.py: error: unrecognized arguments: -f /home/leo/.local/share/jupyter/runtime/kernel-69490e74-9aac-42ae-936c-048ae1c9b9d3.json\n"
     ]
    },
    {
     "ename": "SystemExit",
     "evalue": "2",
     "output_type": "error",
     "traceback": [
      "An exception has occurred, use %tb to see the full traceback.\n",
      "\u001b[0;31mSystemExit\u001b[0m\u001b[0;31m:\u001b[0m 2\n"
     ]
    },
    {
     "name": "stderr",
     "output_type": "stream",
     "text": [
      "/home/leo/Scrivania/Python Projects/MSR/venv/lib/python3.8/site-packages/IPython/core/interactiveshell.py:3449: UserWarning: To exit: use 'exit', 'quit', or Ctrl-D.\n",
      "  warn(\"To exit: use 'exit', 'quit', or Ctrl-D.\", stacklevel=1)\n"
     ]
    }
   ],
   "source": [
    "verb = arg_parse()\n",
    "log(verb)"
   ]
  },
  {
   "cell_type": "markdown",
   "id": "9bb2d00b",
   "metadata": {},
   "source": [
    "In questa maniera per modificare il basicConfig()\n",
    "Es. se si vuole formattare la data e orario"
   ]
  },
  {
   "cell_type": "code",
   "execution_count": null,
   "id": "428c121e",
   "metadata": {},
   "outputs": [],
   "source": [
    "def log(verbos):\n",
    "    \"\"\"Setto i parametri per gestire il file di log\"\"\"\n",
    "    logger.setLevel(logging.INFO)\n",
    "    formatter = logging.Formatter('%(levelname)s:%(name)s:%(message)s',\n",
    "                                 datefmt=\"%Y-%m-%d %H:%M:%S\" # 2021-07-03 17:27:51,275\n",
    "                                 #datefmt='%d/%m/%Y %I:%M:%S %p' # 03/07/2021 05:40:38 PM\n",
    "                                 )\n",
    "             ...   "
   ]
  }
 ],
 "metadata": {
  "kernelspec": {
   "display_name": "Python 3",
   "language": "python",
   "name": "python3"
  },
  "language_info": {
   "codemirror_mode": {
    "name": "ipython",
    "version": 3
   },
   "file_extension": ".py",
   "mimetype": "text/x-python",
   "name": "python",
   "nbconvert_exporter": "python",
   "pygments_lexer": "ipython3",
   "version": "3.8.10"
  }
 },
 "nbformat": 4,
 "nbformat_minor": 5
}
